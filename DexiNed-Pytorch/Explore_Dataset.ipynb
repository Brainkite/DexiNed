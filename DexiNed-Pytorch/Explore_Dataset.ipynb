{
 "cells": [
  {
   "cell_type": "code",
   "execution_count": 10,
   "metadata": {
    "Collapsed": "false"
   },
   "outputs": [],
   "source": [
    "from pathlib import Path\n",
    "Path.ls = lambda x: list(x.iterdir())\n",
    "from PIL import Image\n",
    "import numpy as np"
   ]
  },
  {
   "cell_type": "code",
   "execution_count": 19,
   "metadata": {
    "Collapsed": "false"
   },
   "outputs": [],
   "source": [
    "import matplotlib.pyplot as plt"
   ]
  },
  {
   "cell_type": "code",
   "execution_count": 26,
   "metadata": {
    "Collapsed": "false"
   },
   "outputs": [
    {
     "data": {
      "text/plain": [
       "[PosixPath('/Users/antoninsumner/Datasets/HED-BSDS_PASCAL/HED-BSDS/train/aug_gt/202.5_1_0/299091.png'),\n",
       " PosixPath('/Users/antoninsumner/Datasets/HED-BSDS_PASCAL/HED-BSDS/train/aug_gt/202.5_1_0/65033.png'),\n",
       " PosixPath('/Users/antoninsumner/Datasets/HED-BSDS_PASCAL/HED-BSDS/train/aug_gt/202.5_1_0/71046.png'),\n",
       " PosixPath('/Users/antoninsumner/Datasets/HED-BSDS_PASCAL/HED-BSDS/train/aug_gt/202.5_1_0/157036.png'),\n",
       " PosixPath('/Users/antoninsumner/Datasets/HED-BSDS_PASCAL/HED-BSDS/train/aug_gt/202.5_1_0/187029.png'),\n",
       " PosixPath('/Users/antoninsumner/Datasets/HED-BSDS_PASCAL/HED-BSDS/train/aug_gt/202.5_1_0/148089.png'),\n",
       " PosixPath('/Users/antoninsumner/Datasets/HED-BSDS_PASCAL/HED-BSDS/train/aug_gt/202.5_1_0/21077.png'),\n",
       " PosixPath('/Users/antoninsumner/Datasets/HED-BSDS_PASCAL/HED-BSDS/train/aug_gt/202.5_1_0/232038.png'),\n",
       " PosixPath('/Users/antoninsumner/Datasets/HED-BSDS_PASCAL/HED-BSDS/train/aug_gt/202.5_1_0/242078.png'),\n",
       " PosixPath('/Users/antoninsumner/Datasets/HED-BSDS_PASCAL/HED-BSDS/train/aug_gt/202.5_1_0/388016.png'),\n",
       " PosixPath('/Users/antoninsumner/Datasets/HED-BSDS_PASCAL/HED-BSDS/train/aug_gt/202.5_1_0/292066.png'),\n",
       " PosixPath('/Users/antoninsumner/Datasets/HED-BSDS_PASCAL/HED-BSDS/train/aug_gt/202.5_1_0/41033.png'),\n",
       " PosixPath('/Users/antoninsumner/Datasets/HED-BSDS_PASCAL/HED-BSDS/train/aug_gt/202.5_1_0/198054.png'),\n",
       " PosixPath('/Users/antoninsumner/Datasets/HED-BSDS_PASCAL/HED-BSDS/train/aug_gt/202.5_1_0/173036.png'),\n",
       " PosixPath('/Users/antoninsumner/Datasets/HED-BSDS_PASCAL/HED-BSDS/train/aug_gt/202.5_1_0/189011.png'),\n",
       " PosixPath('/Users/antoninsumner/Datasets/HED-BSDS_PASCAL/HED-BSDS/train/aug_gt/202.5_1_0/175043.png'),\n",
       " PosixPath('/Users/antoninsumner/Datasets/HED-BSDS_PASCAL/HED-BSDS/train/aug_gt/202.5_1_0/12084.png'),\n",
       " PosixPath('/Users/antoninsumner/Datasets/HED-BSDS_PASCAL/HED-BSDS/train/aug_gt/202.5_1_0/66075.png'),\n",
       " PosixPath('/Users/antoninsumner/Datasets/HED-BSDS_PASCAL/HED-BSDS/train/aug_gt/202.5_1_0/108082.png'),\n",
       " PosixPath('/Users/antoninsumner/Datasets/HED-BSDS_PASCAL/HED-BSDS/train/aug_gt/202.5_1_0/20008.png')]"
      ]
     },
     "execution_count": 26,
     "metadata": {},
     "output_type": "execute_result"
    }
   ],
   "source": [
    "p = Path().home().absolute()/'Datasets/HED-BSDS_PASCAL/HED-BSDS/train/aug_gt/202.5_1_0'\n",
    "p.ls()[:20]"
   ]
  },
  {
   "cell_type": "code",
   "execution_count": 27,
   "metadata": {
    "Collapsed": "false"
   },
   "outputs": [],
   "source": [
    "i = np.array(Image.open(p.ls()[0]))"
   ]
  },
  {
   "cell_type": "code",
   "execution_count": 28,
   "metadata": {
    "Collapsed": "false"
   },
   "outputs": [
    {
     "data": {
      "text/plain": [
       "(0, 255)"
      ]
     },
     "execution_count": 28,
     "metadata": {},
     "output_type": "execute_result"
    }
   ],
   "source": [
    "i.min(),i.max()"
   ]
  },
  {
   "cell_type": "code",
   "execution_count": 29,
   "metadata": {
    "Collapsed": "false"
   },
   "outputs": [
    {
     "data": {
      "text/plain": [
       "(array([3.02403e+05, 5.35200e+03, 3.69300e+03, 1.45800e+03, 1.27200e+03,\n",
       "        6.99000e+02, 3.12000e+02, 1.53000e+02, 1.20000e+01, 2.70000e+01]),\n",
       " array([  0. ,  25.5,  51. ,  76.5, 102. , 127.5, 153. , 178.5, 204. ,\n",
       "        229.5, 255. ]),\n",
       " <a list of 10 Patch objects>)"
      ]
     },
     "execution_count": 29,
     "metadata": {},
     "output_type": "execute_result"
    },
    {
     "data": {
      "image/png": "[encoded data removed]",
      "text/plain": [
       "<Figure size 432x288 with 1 Axes>"
      ]
     },
     "metadata": {
      "needs_background": "light"
     },
     "output_type": "display_data"
    }
   ],
   "source": [
    "plt.hist(i.flatten())"
   ]
  },
  {
   "cell_type": "code",
   "execution_count": 30,
   "metadata": {
    "Collapsed": "false"
   },
   "outputs": [
    {
     "data": {
      "text/plain": [
       "<matplotlib.image.AxesImage at 0x11f371f10>"
      ]
     },
     "execution_count": 30,
     "metadata": {},
     "output_type": "execute_result"
    },
    {
     "data": {
      "image/png": "[encoded data removed]",
      "text/plain": [
       "<Figure size 432x288 with 1 Axes>"
      ]
     },
     "metadata": {
      "needs_background": "light"
     },
     "output_type": "display_data"
    }
   ],
   "source": [
    "plt.imshow(i)"
   ]
  },
  {
   "cell_type": "code",
   "execution_count": null,
   "metadata": {
    "Collapsed": "false"
   },
   "outputs": [],
   "source": []
  }
 ],
 "metadata": {
  "kernelspec": {
   "display_name": "Fastai_2",
   "language": "python",
   "name": "fastai_2"
  },
  "language_info": {
   "codemirror_mode": {
    "name": "ipython",
    "version": 3
   },
   "file_extension": ".py",
   "mimetype": "text/x-python",
   "name": "python",
   "nbconvert_exporter": "python",
   "pygments_lexer": "ipython3",
   "version": "3.7.7"
  }
 },
 "nbformat": 4,
 "nbformat_minor": 4
}
